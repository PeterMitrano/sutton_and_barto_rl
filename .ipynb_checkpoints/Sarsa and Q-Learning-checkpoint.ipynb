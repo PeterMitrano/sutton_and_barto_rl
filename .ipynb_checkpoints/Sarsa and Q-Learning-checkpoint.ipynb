{
 "cells": [
  {
   "cell_type": "markdown",
   "metadata": {},
   "source": [
    "# Sarsa & Q-Learning\n",
    "\n",
    "Sarsa and Q-Learning are on and off policy implementations of general policy iteration with one-step backups that act on state-action values. Put differently, they are two of many possible instantiations of TD(0) control. Let's review the update equations.\n",
    "\n",
    "$$\\textbf{Sarsa}$$\n",
    "$$ Q(s,a) \\leftarrow (1-\\alpha)Q(s,a) + \\alpha[r+\\gamma Q(s', a')] $$\n",
    "\n",
    "$$\\textbf{Q-Learning}$$\n",
    "$$ Q(s,a) \\leftarrow (1-\\alpha)Q(s,a) + \\alpha[r+\\gamma \\max_{a'} Q(s', a')] $$\n",
    "\n",
    "The only different you can see immediately is that in Q-Learning we pick $a'$ to be the action that maximizes $Q(s',a')$, and in Sarsa we don't. But how does Sarsa pick $a'$? Sarsa picks $a'$ according to the policy being evaluated (presumably some $\\epsilon$-greedy function of Q. This is why Sarsa is on-policy and Q-Learning is off policy.\n",
    "\n",
    "Here we are going to answer all the exercises related to section 6.4."
   ]
  },
  {
   "cell_type": "markdown",
   "metadata": {},
   "source": [
    "## Example 6.7"
   ]
  },
  {
   "cell_type": "code",
   "execution_count": 1,
   "metadata": {
    "collapsed": false
   },
   "outputs": [],
   "source": [
    "import numpy as np\n",
    "import matplotlib.pyplot as plt\n",
    "np.set_printoptions(suppress=True, precision=3)"
   ]
  },
  {
   "cell_type": "code",
   "execution_count": 53,
   "metadata": {
    "collapsed": false,
    "scrolled": false
   },
   "outputs": [
    {
     "data": {
      "image/png": "[encoded data removed]",
      "text/plain": [
       "<matplotlib.figure.Figure at 0x7f5130ebe518>"
      ]
     },
     "metadata": {},
     "output_type": "display_data"
    }
   ],
   "source": [
    "def env_step(s, a):\n",
    "    s_ = s\n",
    "    if a == 0: #N\n",
    "        if s[0] > 0:\n",
    "            s_ = (s[0]-1, s[1])\n",
    "    elif a == 1: #S\n",
    "        if s[0] < 3:\n",
    "            s_ = (s[0]+1, s[1])\n",
    "    elif a == 2: #E\n",
    "        if s[1] < 11:\n",
    "            s_ = (s[0], s[1]+1)\n",
    "    elif a == 3: #W\n",
    "        if s[1] > 0:\n",
    "            s_ = (s[0], s[1]-1)\n",
    "    else:\n",
    "        raise ValueError(\"a must be between 0 and 3 inclusive, but is {}\".format(a))\n",
    "        \n",
    "    done = False\n",
    "    if s_ == (3, 11):\n",
    "        r = 1\n",
    "        done = True\n",
    "    elif s_[0] == 3 and 0 < s_[1]:\n",
    "        r = -100\n",
    "        s_ = (3, 0) # back to start\n",
    "    else:\n",
    "        r = -1\n",
    "    \n",
    "    return s_, r, done\n",
    "\n",
    "def sarsa(Pi, alpha=0.1, gamma=1, debug=False):\n",
    "    Q = np.zeros((4,12,4))\n",
    "    epsilon = 0.05\n",
    "    E = 500\n",
    "    max_steps = 100\n",
    "    rewards = []\n",
    "    for i in range(E):\n",
    "        epsilon = epsilon * 0.99\n",
    "        s = (3, 0)\n",
    "        a = Pi(Q, s, epsilon)\n",
    "        reward = 0\n",
    "        for j in range(max_steps):\n",
    "            s_, r, done = env_step(s, a)\n",
    "            if debug:\n",
    "                print(Q[s], Q[s_])\n",
    "                print(s, a, r, s_)\n",
    "            reward += r\n",
    "            a_ = Pi(Q, s_, epsilon)\n",
    "            Q[s[0], s[1], a] = (1 - alpha)*Q[s[0], s[1], a] + alpha*(r + gamma*Q[s_[0], s_[1], a_])\n",
    "            if debug:\n",
    "                print(Q[s])\n",
    "            s = s_\n",
    "            a = a_\n",
    "            if done:\n",
    "                break\n",
    "        \n",
    "        if debug:\n",
    "            print(reward)\n",
    "        rewards.append(reward)\n",
    "    \n",
    "    return Q, rewards\n",
    "\n",
    "def epsilon_greedy(Q, s, epsilon):\n",
    "    if np.random.rand() < epsilon:\n",
    "        a = np.random.randint(0,4)\n",
    "    else:\n",
    "        a_s = np.argwhere(Q[s] == np.max(Q[s]))\n",
    "        a = np.random.choice(a_s.flatten())\n",
    "        \n",
    "    return a\n",
    "\n",
    "# https://stackoverflow.com/questions/13728392/moving-average-or-running-mean/27681394#27681394\n",
    "def running_mean(x, N):\n",
    "    cumsum = np.cumsum(np.insert(x, 0, 0)) \n",
    "    return (cumsum[N:] - cumsum[:-N]) / N\n",
    "\n",
    "\n",
    "np.random.seed(0)\n",
    "sarsa_V, sarsa_rewards = sarsa(epsilon_greedy, debug=False)\n",
    "plt.plot(running_mean(sarsa_rewards, 10), label=\"Sarsa\")\n",
    "plt.ylabel(\"Reward per episode\")\n",
    "plt.xlabel(\"Episodes\")\n",
    "plt.legend(bbox_to_anchor=(1,1), loc=2)\n",
    "plt.show()"
   ]
  },
  {
   "cell_type": "code",
   "execution_count": null,
   "metadata": {
    "collapsed": true
   },
   "outputs": [],
   "source": []
  }
 ],
 "metadata": {
  "kernelspec": {
   "display_name": "Python 3",
   "language": "python",
   "name": "python3"
  },
  "language_info": {
   "codemirror_mode": {
    "name": "ipython",
    "version": 3
   },
   "file_extension": ".py",
   "mimetype": "text/x-python",
   "name": "python",
   "nbconvert_exporter": "python",
   "pygments_lexer": "ipython3",
   "version": "3.5.2"
  }
 },
 "nbformat": 4,
 "nbformat_minor": 2
}
