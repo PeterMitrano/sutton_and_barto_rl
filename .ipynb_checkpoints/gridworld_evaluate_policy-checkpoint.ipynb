{
 "cells": [
  {
   "cell_type": "markdown",
   "metadata": {
    "collapsed": true
   },
   "source": [
    "# Evaluate the state value function in a grid world"
   ]
  },
  {
   "cell_type": "markdown",
   "metadata": {},
   "source": [
    "### First we will derive it manually"
   ]
  },
  {
   "cell_type": "markdown",
   "metadata": {},
   "source": [
    "Recall from Figure 4.5 that the algorithm we're trying to apply is:\n",
    "    \n",
    "$$V(s) \\leftarrow max_a \\sum_{s'} P^a_{ss'} [ R^a_{ss'}+ \\gamma V(s)]$$\n",
    "    \n",
    "\n",
    "We start with the state value function, in matrix form, as all zeros:\n",
    "```\n",
    "[0, 0, 0, 0, 0]\n",
    "[0, 0, 0, 0, 0]\n",
    "[0, 0, 0, 0, 0]\n",
    "[0, 0, 0, 0, 0]\n",
    "```\n",
    "The first step of the update process is to iterate over states, starting with (0, 0)."
   ]
  },
  {
   "cell_type": "markdown",
   "metadata": {},
   "source": [
    "### Code"
   ]
  },
  {
   "cell_type": "code",
   "execution_count": 78,
   "metadata": {
    "collapsed": true
   },
   "outputs": [],
   "source": [
    "# dependencies\n",
    "import numpy as np"
   ]
  },
  {
   "cell_type": "code",
   "execution_count": 79,
   "metadata": {
    "collapsed": true
   },
   "outputs": [],
   "source": [
    "def R(state, action, next_state):\n",
    "    return 0\n",
    "\n",
    "def P(state, action, next_state):\n",
    "    return 0\n"
   ]
  },
  {
   "cell_type": "code",
   "execution_count": 63,
   "metadata": {
    "collapsed": false
   },
   "outputs": [
    {
     "name": "stdout",
     "output_type": "stream",
     "text": [
      "0\n",
      "5\n",
      "1\n",
      "0\n",
      "(1, 4)\n",
      "[(0, 0), (0, 1), (0, 2), (0, 3), (0, 4), (1, 0), (1, 1), (1, 2), (1, 3), (1, 4), (2, 0), (2, 1), (2, 2), (2, 3), (2, 4), (3, 0), (3, 1), (3, 2), (3, 3), (3, 4), (4, 0), (4, 1), (4, 2), (4, 3), (4, 4)]\n"
     ]
    }
   ],
   "source": [
    "# Test our functions out a bit\n",
    "print(R((0, 1), 'E', (0, 2)))\n",
    "print(R((3, 0), 'N', (3, 2)))\n",
    "\n",
    "print(P((0, 0), 'S', (0, 1)))\n",
    "print(P((2, 3), 'E', (0, 2)))\n",
    "\n",
    "print(EnvSA((0, 4), 'E'))\n",
    "\n",
    "print(S())"
   ]
  },
  {
   "cell_type": "markdown",
   "metadata": {},
   "source": [
    "### Code\n",
    "\n",
    "Now that we have our P, R, and Pi, lets iteratively solve the system of linear equations that is the Value of policy Pi!"
   ]
  },
  {
   "cell_type": "code",
   "execution_count": 75,
   "metadata": {
    "collapsed": false
   },
   "outputs": [
    {
     "name": "stdout",
     "output_type": "stream",
     "text": [
      "state value function at iter  1\n",
      "[[-3.4 -3.4 -3.4 -3.4 -3.4]\n",
      " [-3.1 -3.1 -3.1 -3.1 -3.1]\n",
      " [-2.8 -2.8 -2.8 -2.8 -2.8]\n",
      " [-2.5 -2.5 -2.5 -2.5 -2.5]\n",
      " [-2.3 -2.3 -2.3 -2.3 -2.3]]\n",
      "state value function at iter  2\n",
      "[[-5.3 -5.3 -5.3 -5.3 -5.3]\n",
      " [-4.7 -4.7 -4.7 -4.7 -4.7]\n",
      " [-4.3 -4.3 -4.3 -4.3 -4.3]\n",
      " [-3.8 -3.8 -3.8 -3.8 -3.8]\n",
      " [-3.5 -3.5 -3.5 -3.5 -3.5]]\n",
      "state value function at iter  3\n",
      "[[-6.2 -6.2 -6.2 -6.2 -6.2]\n",
      " [-5.6 -5.6 -5.6 -5.6 -5.6]\n",
      " [-5.1 -5.1 -5.1 -5.1 -5.1]\n",
      " [-4.5 -4.5 -4.5 -4.5 -4.5]\n",
      " [-4.1 -4.1 -4.1 -4.1 -4.1]]\n",
      "state value function at iter  4\n",
      "[[-6.8 -6.8 -6.8 -6.8 -6.8]\n",
      " [-6.1 -6.1 -6.1 -6.1 -6.1]\n",
      " [-5.5 -5.5 -5.5 -5.5 -5.5]\n",
      " [-4.9 -4.9 -4.9 -4.9 -4.9]\n",
      " [-4.4 -4.4 -4.4 -4.4 -4.4]]\n",
      "state value function at iter  5\n",
      "[[-7.  -7.  -7.  -7.  -7. ]\n",
      " [-6.3 -6.3 -6.3 -6.3 -6.3]\n",
      " [-5.7 -5.7 -5.7 -5.7 -5.7]\n",
      " [-5.1 -5.1 -5.1 -5.1 -5.1]\n",
      " [-4.6 -4.6 -4.6 -4.6 -4.6]]\n",
      "state value function at iter  6\n",
      "[[-7.2 -7.2 -7.2 -7.2 -7.2]\n",
      " [-6.5 -6.5 -6.5 -6.5 -6.5]\n",
      " [-5.8 -5.8 -5.8 -5.8 -5.8]\n",
      " [-5.2 -5.2 -5.2 -5.2 -5.2]\n",
      " [-4.7 -4.7 -4.7 -4.7 -4.7]]\n",
      "state value function at iter  7\n",
      "[[-7.3 -7.3 -7.3 -7.3 -7.3]\n",
      " [-6.5 -6.5 -6.5 -6.5 -6.5]\n",
      " [-5.9 -5.9 -5.9 -5.9 -5.9]\n",
      " [-5.3 -5.3 -5.3 -5.3 -5.3]\n",
      " [-4.8 -4.8 -4.8 -4.8 -4.8]]\n",
      "state value function at iter  8\n",
      "[[-7.3 -7.3 -7.3 -7.3 -7.3]\n",
      " [-6.6 -6.6 -6.6 -6.6 -6.6]\n",
      " [-5.9 -5.9 -5.9 -5.9 -5.9]\n",
      " [-5.3 -5.3 -5.3 -5.3 -5.3]\n",
      " [-4.8 -4.8 -4.8 -4.8 -4.8]]\n",
      "state value function at iter  9\n",
      "[[-7.3 -7.3 -7.3 -7.3 -7.3]\n",
      " [-6.6 -6.6 -6.6 -6.6 -6.6]\n",
      " [-5.9 -5.9 -5.9 -5.9 -5.9]\n",
      " [-5.3 -5.3 -5.3 -5.3 -5.3]\n",
      " [-4.8 -4.8 -4.8 -4.8 -4.8]]\n",
      "state value function at iter  10\n",
      "[[-7.3 -7.3 -7.3 -7.3 -7.3]\n",
      " [-6.6 -6.6 -6.6 -6.6 -6.6]\n",
      " [-5.9 -5.9 -5.9 -5.9 -5.9]\n",
      " [-5.3 -5.3 -5.3 -5.3 -5.3]\n",
      " [-4.8 -4.8 -4.8 -4.8 -4.8]]\n",
      "state value function at iter  11\n",
      "[[-7.3 -7.3 -7.3 -7.3 -7.3]\n",
      " [-6.6 -6.6 -6.6 -6.6 -6.6]\n",
      " [-5.9 -5.9 -5.9 -5.9 -5.9]\n",
      " [-5.3 -5.3 -5.3 -5.3 -5.3]\n",
      " [-4.8 -4.8 -4.8 -4.8 -4.8]]\n",
      "Converged with delta 2.749126690712761 at iter 11\n",
      "state value function at iter  12\n",
      "[[-7.3 -7.3 -7.3 -7.3 -7.3]\n",
      " [-6.6 -6.6 -6.6 -6.6 -6.6]\n",
      " [-5.9 -5.9 -5.9 -5.9 -5.9]\n",
      " [-5.3 -5.3 -5.3 -5.3 -5.3]\n",
      " [-4.8 -4.8 -4.8 -4.8 -4.8]]\n"
     ]
    }
   ],
   "source": [
    "V = np.zeros((5, 5))\n",
    "gamma = 0.9\n",
    "iters = 0\n",
    "converged = False\n",
    "while not converged: \n",
    "    delta = 0\n",
    "    \n",
    "    for s in S():\n",
    "        v = V[s]\n",
    "        for a in A(s):\n",
    "            s1 = EnvSA(s, a)\n",
    "            p = P(s0, a, s1)\n",
    "            for s_prime in EnvS(s):\n",
    "                V[s] = R(s, a, s1) + gamma * V[s1]\n",
    "                delta = np.fmax(delta, abs(V[s] - v))\n",
    "                \n",
    "        \n",
    "    if delta == 0 or iters > 10:\n",
    "        print(\"Converged with delta {} at iter {}\".format(delta, iters))\n",
    "        converged = True\n",
    "            \n",
    "    iters += 1    \n",
    "    print(\"state value function at iter \", iters)\n",
    "    np.set_printoptions(precision=1)\n",
    "    print(V)"
   ]
  },
  {
   "cell_type": "code",
   "execution_count": null,
   "metadata": {
    "collapsed": true
   },
   "outputs": [],
   "source": []
  },
  {
   "cell_type": "code",
   "execution_count": null,
   "metadata": {
    "collapsed": true
   },
   "outputs": [],
   "source": []
  }
 ],
 "metadata": {
  "kernelspec": {
   "display_name": "Python 3",
   "language": "python",
   "name": "python3"
  },
  "language_info": {
   "codemirror_mode": {
    "name": "ipython",
    "version": 3
   },
   "file_extension": ".py",
   "mimetype": "text/x-python",
   "name": "python",
   "nbconvert_exporter": "python",
   "pygments_lexer": "ipython3",
   "version": "3.5.2"
  }
 },
 "nbformat": 4,
 "nbformat_minor": 0
}
