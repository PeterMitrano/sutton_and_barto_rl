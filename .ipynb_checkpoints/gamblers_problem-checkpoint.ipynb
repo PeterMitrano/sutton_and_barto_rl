{
 "cells": [
  {
   "cell_type": "markdown",
   "metadata": {
    "collapsed": true
   },
   "source": [
    "# Value Iteration for the Gambler's Problem"
   ]
  },
  {
   "cell_type": "markdown",
   "metadata": {},
   "source": [
    "Exercise 4.8"
   ]
  },
  {
   "cell_type": "markdown",
   "metadata": {},
   "source": [
    "### In this notebook, we cover the implementation of value iteration for the gambler's problem"
   ]
  },
  {
   "cell_type": "markdown",
   "metadata": {},
   "source": [
    "This environment is episodic, and stochastic. The state is the amount of money the gambler has, and the available actions are to bet a certain amount of money. With some fixed percentage, the gambler will win and receive the amount of money bet, and otherwise loses the amount of money bet. The gambler's capital is between 1 and 99 dollars. The episode wins when the gambler has 0 or 100 dollars. Reward is zero on all transitions except those in which the gambler reaches \\$100. Since this is episodic, we use no discount $\\gamma$, so you won't see it in the code."
   ]
  },
  {
   "cell_type": "code",
   "execution_count": 1,
   "metadata": {
    "collapsed": false
   },
   "outputs": [],
   "source": [
    "import numpy as np\n",
    "import matplotlib.pyplot as plt\n",
    "from IPython.core.debugger import Tracer\n",
    "np.set_printoptions(precision=4, suppress=True)"
   ]
  },
  {
   "cell_type": "code",
   "execution_count": 2,
   "metadata": {
    "collapsed": false
   },
   "outputs": [],
   "source": [
    "# Set up the reward and transition functions\n",
    "def step(capital, bet, p):\n",
    "    r = np.random.rand()\n",
    "    done = False\n",
    "    reward = 0\n",
    "    if r < p:\n",
    "        reward = 1\n",
    "        capital += bet\n",
    "    else:\n",
    "        capital -= bet\n",
    "        \n",
    "    if capital >= 100:\n",
    "        done = True\n",
    "        \n",
    "    return capital, reward, done"
   ]
  },
  {
   "cell_type": "code",
   "execution_count": 4,
   "metadata": {
    "collapsed": false
   },
   "outputs": [
    {
     "data": {
      "image/png": "[encoded data removed]",
      "text/plain": [
       "<matplotlib.figure.Figure at 0x7ffb233efda0>"
      ]
     },
     "metadata": {},
     "output_type": "display_data"
    }
   ],
   "source": [
    "converged = False\n",
    "p = 0.4\n",
    "capital = np.random.randint(0, 100)\n",
    "V = np.zeros(101)\n",
    "\n",
    "plt.xlabel(\"Capital\")\n",
    "plt.ylabel(\"Value Estimates\")\n",
    "axes = plt.gca()\n",
    "axes.set_xlim([1, 99])\n",
    "axes.set_ylim([0, 1])\n",
    "\n",
    "while not converged:\n",
    "    # sweep over states and update the value function\n",
    "    for s in range(1, 100):\n",
    "        # update the value of state s\n",
    "        max_bet = min(s, 100 - s)\n",
    "        Qs = np.zeros(max_bet + 1)\n",
    "        for a in range(1, max_bet + 1):\n",
    "            # reward of winning and losing weighted by p and (1 - p)\n",
    "            # the addition of these two conditions represents the sum of s' in Eq 4.10\n",
    "            win_capital = s + a\n",
    "            lose_capital = max(s - a, 0)\n",
    "            lose_reward = 0 # works cuz episode ends when this happens so reward is limited\n",
    "            win_reward = 1 if win_capital == 100 else 0\n",
    "            q = p * (win_reward + V[win_capital]) + (1 - p) * (lose_reward + V[lose_capital])\n",
    "            Qs[a] = q\n",
    "        V[s] = np.max(Qs)\n",
    "    \n",
    "    plt.plot(V)\n",
    "    plt.show()\n",
    "    break\n",
    "    \n",
    "    if np.all(abs(V - newV) < 1e-5):\n",
    "        converged = True"
   ]
  },
  {
   "cell_type": "code",
   "execution_count": null,
   "metadata": {
    "collapsed": true
   },
   "outputs": [],
   "source": []
  }
 ],
 "metadata": {
  "kernelspec": {
   "display_name": "Python 3",
   "language": "python",
   "name": "python3"
  },
  "language_info": {
   "codemirror_mode": {
    "name": "ipython",
    "version": 3
   },
   "file_extension": ".py",
   "mimetype": "text/x-python",
   "name": "python",
   "nbconvert_exporter": "python",
   "pygments_lexer": "ipython3",
   "version": "3.5.2"
  }
 },
 "nbformat": 4,
 "nbformat_minor": 0
}
