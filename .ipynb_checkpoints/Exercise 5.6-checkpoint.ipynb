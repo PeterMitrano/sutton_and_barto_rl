{
 "cells": [
  {
   "cell_type": "markdown",
   "metadata": {},
   "source": [
    "# Exercise 5.6\n",
    "\n",
    "Derive the weighted-average update rule (5.5) from (5.4). Follow the pattern of the derivation of the unweighted rule (2.4) from (2.1)."
   ]
  },
  {
   "cell_type": "code",
   "execution_count": 4,
   "metadata": {
    "collapsed": false
   },
   "outputs": [
    {
     "data": {
      "text/html": [
       "<img src=\"https://media.giphy.com/media/BmmfETghGOPrW/giphy.gif\"/>"
      ],
      "text/plain": [
       "<IPython.core.display.Image object>"
      ]
     },
     "execution_count": 4,
     "metadata": {},
     "output_type": "execute_result"
    }
   ],
   "source": [
    "from IPython.display import Image\n",
    "from IPython.core.display import HTML \n",
    "Image(url=\"https://media.giphy.com/media/BmmfETghGOPrW/giphy.gif\")"
   ]
  },
  {
   "cell_type": "markdown",
   "metadata": {},
   "source": [
    "## LETS DO THIS!\n",
    "\n",
    "\\begin{equation}\n",
    "\\begin{split}\n",
    "V_n &= \\frac{\\sum^n_{k=1} w_k R_k}{\\sum^n_{k=1} w_k} \\\\\n",
    "V_{n+1} &= \\frac{\\sum^{n+1}_{k=1} w_k R_k}{\\sum^{n+1}_{k=1} w_k} \\\\\n",
    "        &= \\frac{1}{\\sum^{n+1}_{k=1} w_k} \\sum^{n+1}_{k=1} w_k R_k \\\\\n",
    "        &= \\frac{1}{\\sum^{n+1}_{k=1} w_k} [w_{n+1} R_{n+1} + \\sum^{n}_{k=1} w_k R_k] &&\\text{(expand the sum one step)} \\\\\n",
    "        &= \\frac{1}{\\sum^{n+1}_{k=1} w_k} [w_{n+1} R_{n+1} + \\sum^n_{k=1} w_k * V_n] &&\\text{(use the original formula for $V_n$)} \\\\\n",
    "        &= \\frac{1}{\\sum^{n+1}_{k=1} w_k} [w_{n+1} R_{n+1} + \\sum^n_{k=1} w_k*V_n + w_{n+1}V_n - w_{n+1}V_n] \\quad && \\text{(add and subtract $w_{n+1}V_n$. Just sprinkling a litle bit of  magic on it)} \\\\\n",
    "        &= \\frac{1}{\\sum^{n+1}_{k=1} w_k} [w_{n+1} R_{n+1} + (\\sum^n_{k=1} w_k + w_{n+1})V_n - w_{n+1}V_n]  &&\\text{(now you see where I've going with this)}\\\\\n",
    "        &= \\frac{1}{\\sum^{n+1}_{k=1} w_k} [(\\sum^n_{k=1} w_k + w_{n+1})*V_n + w_{n+1} R_{n+1} - w_{n+1}V_n] \\\\\n",
    "        &= \\frac{1}{\\sum^{n+1}_{k=1} w_k} [\\sum^{n+1}_{k=1} w_k * V_n + w_{n+1} R_{n+1} - w_{n+1}*V_n] &&\\text{(ohhhh yeaaaa. Combine the sum!)} \\\\\n",
    "        &= V_n + \\frac{1}{\\sum^{n+1}_{k=1} w_k} [w_{n+1} R_{n+1} - w_{n+1}*V_n] \\\\\n",
    "        &= V_n + \\frac{w_{n+1}}{\\sum^{n+1}_{k=1} w_k} [R_{n+1} -V_n] \\\\\n",
    "        &= V_n + \\frac{w_{n+1}}{W_{n+1}} [R_{n+1} -V_n] &&\\text{(replace with $W_{n+1}$)} \\\\\n",
    "\\end{split}\n",
    "\\end{equation}"
   ]
  }
 ],
 "metadata": {
  "kernelspec": {
   "display_name": "Python 3",
   "language": "python",
   "name": "python3"
  },
  "language_info": {
   "codemirror_mode": {
    "name": "ipython",
    "version": 3
   },
   "file_extension": ".py",
   "mimetype": "text/x-python",
   "name": "python",
   "nbconvert_exporter": "python",
   "pygments_lexer": "ipython3",
   "version": "3.5.2"
  }
 },
 "nbformat": 4,
 "nbformat_minor": 2
}
